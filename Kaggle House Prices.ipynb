{
 "cells": [
  {
   "cell_type": "code",
   "execution_count": 1,
   "metadata": {},
   "outputs": [],
   "source": [
    "#import libraries\n",
    "import numpy as np\n",
    "import pandas as pd\n",
    "\n",
    "import matplotlib.pyplot as plt\n",
    "\n",
    "from sklearn.linear_model import LinearRegression, Ridge, Lasso, ElasticNet\n",
    "from sklearn.preprocessing import LabelEncoder"
   ]
  },
  {
   "cell_type": "code",
   "execution_count": 2,
   "metadata": {},
   "outputs": [],
   "source": [
    "#import csv files\n",
    "df_train = pd.read_csv(r\"C:\\Users\\Galvin\\Desktop\\Kaggle\\House Prices\\train.csv\")\n",
    "df_test = pd.read_csv(r\"C:\\Users\\Galvin\\Desktop\\Kaggle\\House Prices\\test.csv\")"
   ]
  },
  {
   "cell_type": "code",
   "execution_count": 3,
   "metadata": {},
   "outputs": [
    {
     "data": {
      "text/plain": [
       "((1460, 81), (1459, 80))"
      ]
     },
     "execution_count": 3,
     "metadata": {},
     "output_type": "execute_result"
    }
   ],
   "source": [
    "#check dimensions of dataframes\n",
    "df_train.shape, df_test.shape"
   ]
  },
  {
   "cell_type": "code",
   "execution_count": 4,
   "metadata": {},
   "outputs": [
    {
     "data": {
      "text/html": [
       "<div>\n",
       "<style scoped>\n",
       "    .dataframe tbody tr th:only-of-type {\n",
       "        vertical-align: middle;\n",
       "    }\n",
       "\n",
       "    .dataframe tbody tr th {\n",
       "        vertical-align: top;\n",
       "    }\n",
       "\n",
       "    .dataframe thead th {\n",
       "        text-align: right;\n",
       "    }\n",
       "</style>\n",
       "<table border=\"1\" class=\"dataframe\">\n",
       "  <thead>\n",
       "    <tr style=\"text-align: right;\">\n",
       "      <th></th>\n",
       "      <th>Id</th>\n",
       "      <th>MSSubClass</th>\n",
       "      <th>MSZoning</th>\n",
       "      <th>LotFrontage</th>\n",
       "      <th>LotArea</th>\n",
       "      <th>Street</th>\n",
       "      <th>Alley</th>\n",
       "      <th>LotShape</th>\n",
       "      <th>LandContour</th>\n",
       "      <th>Utilities</th>\n",
       "      <th>...</th>\n",
       "      <th>PoolArea</th>\n",
       "      <th>PoolQC</th>\n",
       "      <th>Fence</th>\n",
       "      <th>MiscFeature</th>\n",
       "      <th>MiscVal</th>\n",
       "      <th>MoSold</th>\n",
       "      <th>YrSold</th>\n",
       "      <th>SaleType</th>\n",
       "      <th>SaleCondition</th>\n",
       "      <th>SalePrice</th>\n",
       "    </tr>\n",
       "  </thead>\n",
       "  <tbody>\n",
       "    <tr>\n",
       "      <td>0</td>\n",
       "      <td>1</td>\n",
       "      <td>60</td>\n",
       "      <td>RL</td>\n",
       "      <td>65.0</td>\n",
       "      <td>8450</td>\n",
       "      <td>Pave</td>\n",
       "      <td>NaN</td>\n",
       "      <td>Reg</td>\n",
       "      <td>Lvl</td>\n",
       "      <td>AllPub</td>\n",
       "      <td>...</td>\n",
       "      <td>0</td>\n",
       "      <td>NaN</td>\n",
       "      <td>NaN</td>\n",
       "      <td>NaN</td>\n",
       "      <td>0</td>\n",
       "      <td>2</td>\n",
       "      <td>2008</td>\n",
       "      <td>WD</td>\n",
       "      <td>Normal</td>\n",
       "      <td>208500</td>\n",
       "    </tr>\n",
       "    <tr>\n",
       "      <td>1</td>\n",
       "      <td>2</td>\n",
       "      <td>20</td>\n",
       "      <td>RL</td>\n",
       "      <td>80.0</td>\n",
       "      <td>9600</td>\n",
       "      <td>Pave</td>\n",
       "      <td>NaN</td>\n",
       "      <td>Reg</td>\n",
       "      <td>Lvl</td>\n",
       "      <td>AllPub</td>\n",
       "      <td>...</td>\n",
       "      <td>0</td>\n",
       "      <td>NaN</td>\n",
       "      <td>NaN</td>\n",
       "      <td>NaN</td>\n",
       "      <td>0</td>\n",
       "      <td>5</td>\n",
       "      <td>2007</td>\n",
       "      <td>WD</td>\n",
       "      <td>Normal</td>\n",
       "      <td>181500</td>\n",
       "    </tr>\n",
       "    <tr>\n",
       "      <td>2</td>\n",
       "      <td>3</td>\n",
       "      <td>60</td>\n",
       "      <td>RL</td>\n",
       "      <td>68.0</td>\n",
       "      <td>11250</td>\n",
       "      <td>Pave</td>\n",
       "      <td>NaN</td>\n",
       "      <td>IR1</td>\n",
       "      <td>Lvl</td>\n",
       "      <td>AllPub</td>\n",
       "      <td>...</td>\n",
       "      <td>0</td>\n",
       "      <td>NaN</td>\n",
       "      <td>NaN</td>\n",
       "      <td>NaN</td>\n",
       "      <td>0</td>\n",
       "      <td>9</td>\n",
       "      <td>2008</td>\n",
       "      <td>WD</td>\n",
       "      <td>Normal</td>\n",
       "      <td>223500</td>\n",
       "    </tr>\n",
       "    <tr>\n",
       "      <td>3</td>\n",
       "      <td>4</td>\n",
       "      <td>70</td>\n",
       "      <td>RL</td>\n",
       "      <td>60.0</td>\n",
       "      <td>9550</td>\n",
       "      <td>Pave</td>\n",
       "      <td>NaN</td>\n",
       "      <td>IR1</td>\n",
       "      <td>Lvl</td>\n",
       "      <td>AllPub</td>\n",
       "      <td>...</td>\n",
       "      <td>0</td>\n",
       "      <td>NaN</td>\n",
       "      <td>NaN</td>\n",
       "      <td>NaN</td>\n",
       "      <td>0</td>\n",
       "      <td>2</td>\n",
       "      <td>2006</td>\n",
       "      <td>WD</td>\n",
       "      <td>Abnorml</td>\n",
       "      <td>140000</td>\n",
       "    </tr>\n",
       "    <tr>\n",
       "      <td>4</td>\n",
       "      <td>5</td>\n",
       "      <td>60</td>\n",
       "      <td>RL</td>\n",
       "      <td>84.0</td>\n",
       "      <td>14260</td>\n",
       "      <td>Pave</td>\n",
       "      <td>NaN</td>\n",
       "      <td>IR1</td>\n",
       "      <td>Lvl</td>\n",
       "      <td>AllPub</td>\n",
       "      <td>...</td>\n",
       "      <td>0</td>\n",
       "      <td>NaN</td>\n",
       "      <td>NaN</td>\n",
       "      <td>NaN</td>\n",
       "      <td>0</td>\n",
       "      <td>12</td>\n",
       "      <td>2008</td>\n",
       "      <td>WD</td>\n",
       "      <td>Normal</td>\n",
       "      <td>250000</td>\n",
       "    </tr>\n",
       "  </tbody>\n",
       "</table>\n",
       "<p>5 rows × 81 columns</p>\n",
       "</div>"
      ],
      "text/plain": [
       "   Id  MSSubClass MSZoning  LotFrontage  LotArea Street Alley LotShape  \\\n",
       "0   1          60       RL         65.0     8450   Pave   NaN      Reg   \n",
       "1   2          20       RL         80.0     9600   Pave   NaN      Reg   \n",
       "2   3          60       RL         68.0    11250   Pave   NaN      IR1   \n",
       "3   4          70       RL         60.0     9550   Pave   NaN      IR1   \n",
       "4   5          60       RL         84.0    14260   Pave   NaN      IR1   \n",
       "\n",
       "  LandContour Utilities  ... PoolArea PoolQC Fence MiscFeature MiscVal MoSold  \\\n",
       "0         Lvl    AllPub  ...        0    NaN   NaN         NaN       0      2   \n",
       "1         Lvl    AllPub  ...        0    NaN   NaN         NaN       0      5   \n",
       "2         Lvl    AllPub  ...        0    NaN   NaN         NaN       0      9   \n",
       "3         Lvl    AllPub  ...        0    NaN   NaN         NaN       0      2   \n",
       "4         Lvl    AllPub  ...        0    NaN   NaN         NaN       0     12   \n",
       "\n",
       "  YrSold  SaleType  SaleCondition  SalePrice  \n",
       "0   2008        WD         Normal     208500  \n",
       "1   2007        WD         Normal     181500  \n",
       "2   2008        WD         Normal     223500  \n",
       "3   2006        WD        Abnorml     140000  \n",
       "4   2008        WD         Normal     250000  \n",
       "\n",
       "[5 rows x 81 columns]"
      ]
     },
     "execution_count": 4,
     "metadata": {},
     "output_type": "execute_result"
    }
   ],
   "source": [
    "#explore dataframe\n",
    "df_train.head()"
   ]
  },
  {
   "cell_type": "code",
   "execution_count": 5,
   "metadata": {
    "scrolled": true
   },
   "outputs": [
    {
     "name": "stdout",
     "output_type": "stream",
     "text": [
      "Id : int64\n",
      "MSSubClass : int64\n",
      "MSZoning : object\n",
      "LotFrontage : float64\n",
      "LotArea : int64\n",
      "Street : object\n",
      "Alley : object\n",
      "LotShape : object\n",
      "LandContour : object\n",
      "Utilities : object\n",
      "LotConfig : object\n",
      "LandSlope : object\n",
      "Neighborhood : object\n",
      "Condition1 : object\n",
      "Condition2 : object\n",
      "BldgType : object\n",
      "HouseStyle : object\n",
      "OverallQual : int64\n",
      "OverallCond : int64\n",
      "YearBuilt : int64\n",
      "YearRemodAdd : int64\n",
      "RoofStyle : object\n",
      "RoofMatl : object\n",
      "Exterior1st : object\n",
      "Exterior2nd : object\n",
      "MasVnrType : object\n",
      "MasVnrArea : float64\n",
      "ExterQual : object\n",
      "ExterCond : object\n",
      "Foundation : object\n",
      "BsmtQual : object\n",
      "BsmtCond : object\n",
      "BsmtExposure : object\n",
      "BsmtFinType1 : object\n",
      "BsmtFinSF1 : int64\n",
      "BsmtFinType2 : object\n",
      "BsmtFinSF2 : int64\n",
      "BsmtUnfSF : int64\n",
      "TotalBsmtSF : int64\n",
      "Heating : object\n",
      "HeatingQC : object\n",
      "CentralAir : object\n",
      "Electrical : object\n",
      "1stFlrSF : int64\n",
      "2ndFlrSF : int64\n",
      "LowQualFinSF : int64\n",
      "GrLivArea : int64\n",
      "BsmtFullBath : int64\n",
      "BsmtHalfBath : int64\n",
      "FullBath : int64\n",
      "HalfBath : int64\n",
      "BedroomAbvGr : int64\n",
      "KitchenAbvGr : int64\n",
      "KitchenQual : object\n",
      "TotRmsAbvGrd : int64\n",
      "Functional : object\n",
      "Fireplaces : int64\n",
      "FireplaceQu : object\n",
      "GarageType : object\n",
      "GarageYrBlt : float64\n",
      "GarageFinish : object\n",
      "GarageCars : int64\n",
      "GarageArea : int64\n",
      "GarageQual : object\n",
      "GarageCond : object\n",
      "PavedDrive : object\n",
      "WoodDeckSF : int64\n",
      "OpenPorchSF : int64\n",
      "EnclosedPorch : int64\n",
      "3SsnPorch : int64\n",
      "ScreenPorch : int64\n",
      "PoolArea : int64\n",
      "PoolQC : object\n",
      "Fence : object\n",
      "MiscFeature : object\n",
      "MiscVal : int64\n",
      "MoSold : int64\n",
      "YrSold : int64\n",
      "SaleType : object\n",
      "SaleCondition : object\n",
      "SalePrice : int64\n"
     ]
    }
   ],
   "source": [
    "#check datatypes in dataframes\n",
    "obj = df_train.dtypes\n",
    "for key,value in obj.iteritems():\n",
    "    print(key, \":\", value)"
   ]
  },
  {
   "cell_type": "code",
   "execution_count": 6,
   "metadata": {
    "scrolled": true
   },
   "outputs": [
    {
     "name": "stdout",
     "output_type": "stream",
     "text": [
      "Id : 0\n",
      "MSSubClass : 0\n",
      "MSZoning : 0\n",
      "LotFrontage : 259\n",
      "LotArea : 0\n",
      "Street : 0\n",
      "Alley : 1369\n",
      "LotShape : 0\n",
      "LandContour : 0\n",
      "Utilities : 0\n",
      "LotConfig : 0\n",
      "LandSlope : 0\n",
      "Neighborhood : 0\n",
      "Condition1 : 0\n",
      "Condition2 : 0\n",
      "BldgType : 0\n",
      "HouseStyle : 0\n",
      "OverallQual : 0\n",
      "OverallCond : 0\n",
      "YearBuilt : 0\n",
      "YearRemodAdd : 0\n",
      "RoofStyle : 0\n",
      "RoofMatl : 0\n",
      "Exterior1st : 0\n",
      "Exterior2nd : 0\n",
      "MasVnrType : 8\n",
      "MasVnrArea : 8\n",
      "ExterQual : 0\n",
      "ExterCond : 0\n",
      "Foundation : 0\n",
      "BsmtQual : 37\n",
      "BsmtCond : 37\n",
      "BsmtExposure : 38\n",
      "BsmtFinType1 : 37\n",
      "BsmtFinSF1 : 0\n",
      "BsmtFinType2 : 38\n",
      "BsmtFinSF2 : 0\n",
      "BsmtUnfSF : 0\n",
      "TotalBsmtSF : 0\n",
      "Heating : 0\n",
      "HeatingQC : 0\n",
      "CentralAir : 0\n",
      "Electrical : 1\n",
      "1stFlrSF : 0\n",
      "2ndFlrSF : 0\n",
      "LowQualFinSF : 0\n",
      "GrLivArea : 0\n",
      "BsmtFullBath : 0\n",
      "BsmtHalfBath : 0\n",
      "FullBath : 0\n",
      "HalfBath : 0\n",
      "BedroomAbvGr : 0\n",
      "KitchenAbvGr : 0\n",
      "KitchenQual : 0\n",
      "TotRmsAbvGrd : 0\n",
      "Functional : 0\n",
      "Fireplaces : 0\n",
      "FireplaceQu : 690\n",
      "GarageType : 81\n",
      "GarageYrBlt : 81\n",
      "GarageFinish : 81\n",
      "GarageCars : 0\n",
      "GarageArea : 0\n",
      "GarageQual : 81\n",
      "GarageCond : 81\n",
      "PavedDrive : 0\n",
      "WoodDeckSF : 0\n",
      "OpenPorchSF : 0\n",
      "EnclosedPorch : 0\n",
      "3SsnPorch : 0\n",
      "ScreenPorch : 0\n",
      "PoolArea : 0\n",
      "PoolQC : 1453\n",
      "Fence : 1179\n",
      "MiscFeature : 1406\n",
      "MiscVal : 0\n",
      "MoSold : 0\n",
      "YrSold : 0\n",
      "SaleType : 0\n",
      "SaleCondition : 0\n",
      "SalePrice : 0\n"
     ]
    }
   ],
   "source": [
    "#check completeness of dataframes\n",
    "obj1 = df_train.isnull().sum()\n",
    "for key,value in obj1.iteritems():\n",
    "    print(key,\":\",value)"
   ]
  },
  {
   "cell_type": "code",
   "execution_count": 7,
   "metadata": {
    "scrolled": true
   },
   "outputs": [
    {
     "name": "stdout",
     "output_type": "stream",
     "text": [
      "Id : 0\n",
      "MSSubClass : 0\n",
      "MSZoning : 4\n",
      "LotFrontage : 227\n",
      "LotArea : 0\n",
      "Street : 0\n",
      "Alley : 1352\n",
      "LotShape : 0\n",
      "LandContour : 0\n",
      "Utilities : 2\n",
      "LotConfig : 0\n",
      "LandSlope : 0\n",
      "Neighborhood : 0\n",
      "Condition1 : 0\n",
      "Condition2 : 0\n",
      "BldgType : 0\n",
      "HouseStyle : 0\n",
      "OverallQual : 0\n",
      "OverallCond : 0\n",
      "YearBuilt : 0\n",
      "YearRemodAdd : 0\n",
      "RoofStyle : 0\n",
      "RoofMatl : 0\n",
      "Exterior1st : 1\n",
      "Exterior2nd : 1\n",
      "MasVnrType : 16\n",
      "MasVnrArea : 15\n",
      "ExterQual : 0\n",
      "ExterCond : 0\n",
      "Foundation : 0\n",
      "BsmtQual : 44\n",
      "BsmtCond : 45\n",
      "BsmtExposure : 44\n",
      "BsmtFinType1 : 42\n",
      "BsmtFinSF1 : 1\n",
      "BsmtFinType2 : 42\n",
      "BsmtFinSF2 : 1\n",
      "BsmtUnfSF : 1\n",
      "TotalBsmtSF : 1\n",
      "Heating : 0\n",
      "HeatingQC : 0\n",
      "CentralAir : 0\n",
      "Electrical : 0\n",
      "1stFlrSF : 0\n",
      "2ndFlrSF : 0\n",
      "LowQualFinSF : 0\n",
      "GrLivArea : 0\n",
      "BsmtFullBath : 2\n",
      "BsmtHalfBath : 2\n",
      "FullBath : 0\n",
      "HalfBath : 0\n",
      "BedroomAbvGr : 0\n",
      "KitchenAbvGr : 0\n",
      "KitchenQual : 1\n",
      "TotRmsAbvGrd : 0\n",
      "Functional : 2\n",
      "Fireplaces : 0\n",
      "FireplaceQu : 730\n",
      "GarageType : 76\n",
      "GarageYrBlt : 78\n",
      "GarageFinish : 78\n",
      "GarageCars : 1\n",
      "GarageArea : 1\n",
      "GarageQual : 78\n",
      "GarageCond : 78\n",
      "PavedDrive : 0\n",
      "WoodDeckSF : 0\n",
      "OpenPorchSF : 0\n",
      "EnclosedPorch : 0\n",
      "3SsnPorch : 0\n",
      "ScreenPorch : 0\n",
      "PoolArea : 0\n",
      "PoolQC : 1456\n",
      "Fence : 1169\n",
      "MiscFeature : 1408\n",
      "MiscVal : 0\n",
      "MoSold : 0\n",
      "YrSold : 0\n",
      "SaleType : 1\n",
      "SaleCondition : 0\n"
     ]
    }
   ],
   "source": [
    "#check completeness of dataframes\n",
    "obj2 = df_test.isnull().sum()\n",
    "for key,value in obj2.iteritems():\n",
    "    print(key,\":\",value)"
   ]
  },
  {
   "cell_type": "code",
   "execution_count": 8,
   "metadata": {},
   "outputs": [],
   "source": [
    "#drop columns with more than 30% missing values\n",
    "temp = [df_train, df_test]\n",
    "cols = ['Alley', 'PoolQC', 'Fence', 'MiscFeature', 'FireplaceQu']\n",
    "for df in temp:\n",
    "    df.drop(columns=cols, inplace=True)"
   ]
  },
  {
   "cell_type": "code",
   "execution_count": 9,
   "metadata": {},
   "outputs": [],
   "source": [
    "#replace continuous variables with null values with the mean value\n",
    "df_train.fillna(df_train.mean(), inplace=True)\n",
    "df_test.fillna(df_test.mean(), inplace=True)"
   ]
  },
  {
   "cell_type": "code",
   "execution_count": 10,
   "metadata": {},
   "outputs": [],
   "source": [
    "#replace categorical variables with null values with the mode value\n",
    "df_train.fillna(df_train.mode().iloc[0], inplace=True)\n",
    "df_test.fillna(df_test.mode().iloc[0], inplace=True)"
   ]
  },
  {
   "cell_type": "code",
   "execution_count": 11,
   "metadata": {},
   "outputs": [],
   "source": [
    "#create list of categorical variables \n",
    "headers = []\n",
    "for key,value in obj.iteritems():\n",
    "    if value == 'object':\n",
    "        headers.append(key)\n",
    "\n",
    "for col in cols:\n",
    "    headers.remove(col)"
   ]
  },
  {
   "cell_type": "code",
   "execution_count": 12,
   "metadata": {},
   "outputs": [],
   "source": [
    "#encode categorical variables\n",
    "le = LabelEncoder()\n",
    "temp1 = df_train[headers].apply(le.fit_transform)\n",
    "temp2 = df_test[headers].apply(le.fit_transform)"
   ]
  },
  {
   "cell_type": "code",
   "execution_count": 13,
   "metadata": {},
   "outputs": [],
   "source": [
    "#finalise encoded dataframe\n",
    "df_train[headers] = temp1[headers]\n",
    "df_test[headers] = temp2[headers]"
   ]
  },
  {
   "cell_type": "code",
   "execution_count": 14,
   "metadata": {},
   "outputs": [],
   "source": [
    "#prepare dataframe for training\n",
    "x_train = df_train.drop(columns=['SalePrice'])\n",
    "y_train = df_train['SalePrice']"
   ]
  },
  {
   "cell_type": "code",
   "execution_count": 15,
   "metadata": {},
   "outputs": [
    {
     "data": {
      "text/plain": [
       "0.8495285560863988"
      ]
     },
     "execution_count": 15,
     "metadata": {},
     "output_type": "execute_result"
    }
   ],
   "source": [
    "#train and evaluate basic linear regression model\n",
    "lr = LinearRegression()\n",
    "model = lr.fit(x_train, y_train)\n",
    "acc = model.score(x_train, y_train)\n",
    "acc"
   ]
  },
  {
   "cell_type": "code",
   "execution_count": 16,
   "metadata": {},
   "outputs": [
    {
     "data": {
      "text/plain": [
       "0.8494528663926517"
      ]
     },
     "execution_count": 16,
     "metadata": {},
     "output_type": "execute_result"
    }
   ],
   "source": [
    "#train and evaluate ridge regression model\n",
    "model1 = Ridge().fit(x_train, y_train)\n",
    "acc1 = model1.score(x_train, y_train)\n",
    "acc1"
   ]
  },
  {
   "cell_type": "code",
   "execution_count": 17,
   "metadata": {},
   "outputs": [
    {
     "data": {
      "text/plain": [
       "0.8495282009262286"
      ]
     },
     "execution_count": 17,
     "metadata": {},
     "output_type": "execute_result"
    }
   ],
   "source": [
    "#train and evaluate lasso regression model\n",
    "model2 = Lasso().fit(x_train, y_train)\n",
    "acc2 = model2.score(x_train, y_train)\n",
    "acc2"
   ]
  },
  {
   "cell_type": "code",
   "execution_count": 18,
   "metadata": {},
   "outputs": [
    {
     "name": "stderr",
     "output_type": "stream",
     "text": [
      "C:\\Users\\Galvin\\Anaconda3\\lib\\site-packages\\sklearn\\linear_model\\coordinate_descent.py:475: ConvergenceWarning: Objective did not converge. You might want to increase the number of iterations. Duality gap: 817629947284.6848, tolerance: 920791133.4609977\n",
      "  positive)\n"
     ]
    },
    {
     "data": {
      "text/plain": [
       "0.8356013422104545"
      ]
     },
     "execution_count": 18,
     "metadata": {},
     "output_type": "execute_result"
    }
   ],
   "source": [
    "#train and evaluate elasticnet regression model\n",
    "model3 = ElasticNet().fit(x_train, y_train)\n",
    "acc3 = model3.score(x_train, y_train)\n",
    "acc3"
   ]
  },
  {
   "cell_type": "code",
   "execution_count": 19,
   "metadata": {},
   "outputs": [
    {
     "data": {
      "text/plain": [
       "array([104014.48578943, 148566.8100905 , 165867.45995618, ...,\n",
       "       140690.94972844, 111176.79981006, 239225.62673312])"
      ]
     },
     "execution_count": 19,
     "metadata": {},
     "output_type": "execute_result"
    }
   ],
   "source": [
    "#generate prediction with basic linear regression model\n",
    "pred = model.predict(df_test)\n",
    "pred"
   ]
  },
  {
   "cell_type": "code",
   "execution_count": 20,
   "metadata": {},
   "outputs": [
    {
     "data": {
      "text/html": [
       "<div>\n",
       "<style scoped>\n",
       "    .dataframe tbody tr th:only-of-type {\n",
       "        vertical-align: middle;\n",
       "    }\n",
       "\n",
       "    .dataframe tbody tr th {\n",
       "        vertical-align: top;\n",
       "    }\n",
       "\n",
       "    .dataframe thead th {\n",
       "        text-align: right;\n",
       "    }\n",
       "</style>\n",
       "<table border=\"1\" class=\"dataframe\">\n",
       "  <thead>\n",
       "    <tr style=\"text-align: right;\">\n",
       "      <th></th>\n",
       "      <th>Id</th>\n",
       "      <th>SalePrice</th>\n",
       "    </tr>\n",
       "  </thead>\n",
       "  <tbody>\n",
       "    <tr>\n",
       "      <td>0</td>\n",
       "      <td>1461</td>\n",
       "      <td>104014.485789</td>\n",
       "    </tr>\n",
       "    <tr>\n",
       "      <td>1</td>\n",
       "      <td>1462</td>\n",
       "      <td>148566.810091</td>\n",
       "    </tr>\n",
       "    <tr>\n",
       "      <td>2</td>\n",
       "      <td>1463</td>\n",
       "      <td>165867.459956</td>\n",
       "    </tr>\n",
       "    <tr>\n",
       "      <td>3</td>\n",
       "      <td>1464</td>\n",
       "      <td>179455.555379</td>\n",
       "    </tr>\n",
       "    <tr>\n",
       "      <td>4</td>\n",
       "      <td>1465</td>\n",
       "      <td>185483.412244</td>\n",
       "    </tr>\n",
       "    <tr>\n",
       "      <td>...</td>\n",
       "      <td>...</td>\n",
       "      <td>...</td>\n",
       "    </tr>\n",
       "    <tr>\n",
       "      <td>1454</td>\n",
       "      <td>2915</td>\n",
       "      <td>62926.458064</td>\n",
       "    </tr>\n",
       "    <tr>\n",
       "      <td>1455</td>\n",
       "      <td>2916</td>\n",
       "      <td>55425.633969</td>\n",
       "    </tr>\n",
       "    <tr>\n",
       "      <td>1456</td>\n",
       "      <td>2917</td>\n",
       "      <td>140690.949728</td>\n",
       "    </tr>\n",
       "    <tr>\n",
       "      <td>1457</td>\n",
       "      <td>2918</td>\n",
       "      <td>111176.799810</td>\n",
       "    </tr>\n",
       "    <tr>\n",
       "      <td>1458</td>\n",
       "      <td>2919</td>\n",
       "      <td>239225.626733</td>\n",
       "    </tr>\n",
       "  </tbody>\n",
       "</table>\n",
       "<p>1459 rows × 2 columns</p>\n",
       "</div>"
      ],
      "text/plain": [
       "        Id      SalePrice\n",
       "0     1461  104014.485789\n",
       "1     1462  148566.810091\n",
       "2     1463  165867.459956\n",
       "3     1464  179455.555379\n",
       "4     1465  185483.412244\n",
       "...    ...            ...\n",
       "1454  2915   62926.458064\n",
       "1455  2916   55425.633969\n",
       "1456  2917  140690.949728\n",
       "1457  2918  111176.799810\n",
       "1458  2919  239225.626733\n",
       "\n",
       "[1459 rows x 2 columns]"
      ]
     },
     "execution_count": 20,
     "metadata": {},
     "output_type": "execute_result"
    }
   ],
   "source": [
    "#create submission dataframe\n",
    "submission = pd.DataFrame({'Id':df_test['Id'], 'SalePrice': pred})\n",
    "submission"
   ]
  },
  {
   "cell_type": "code",
   "execution_count": 21,
   "metadata": {},
   "outputs": [],
   "source": [
    "#create submission csv\n",
    "submission.to_csv(r\"C:\\Users\\Galvin\\Desktop\\Kaggle\\House Prices\\submission.csv\", index=False)"
   ]
  }
 ],
 "metadata": {
  "kernelspec": {
   "display_name": "Python 3",
   "language": "python",
   "name": "python3"
  },
  "language_info": {
   "codemirror_mode": {
    "name": "ipython",
    "version": 3
   },
   "file_extension": ".py",
   "mimetype": "text/x-python",
   "name": "python",
   "nbconvert_exporter": "python",
   "pygments_lexer": "ipython3",
   "version": "3.7.4"
  }
 },
 "nbformat": 4,
 "nbformat_minor": 2
}
